{
 "cells": [
  {
   "cell_type": "code",
   "execution_count": 5,
   "metadata": {},
   "outputs": [],
   "source": [
    "import yaml\n",
    "import os\n",
    "import torch\n",
    "import torchvision\n",
    "import sys\n",
    "\n",
    "from ipywidgets import interact, interactive, fixed\n",
    "import ipywidgets as widgets\n",
    "\n",
    "import imageio\n",
    "from skimage import img_as_ubyte\n",
    "\n",
    "sys.path.append(\"../../\")\n",
    "from model.vae import VAE_Model\n",
    "import numpy as np\n",
    "import matplotlib.pyplot as plt\n",
    "from edflow.hooks.checkpoint_hooks.common import get_latest_checkpoint\n",
    "#os.environ[\"CUDA_VISIBLE_DEVICES\"] = \"9\"    \n",
    "device = torch.device(\"cuda\" if torch.cuda.is_available() else \"cpu\")"
   ]
  },
  {
   "cell_type": "code",
   "execution_count": null,
   "metadata": {},
   "outputs": [],
   "source": [
    "def load_config(run_path):\n",
    "    run_config_path = run_path + \"/configs/\"\n",
    "    run_config_path = run_config_path + os.listdir(run_config_path)[-1]\n",
    "    with open(run_config_path) as fh:\n",
    "        config = yaml.full_load(fh)\n",
    "    return config\n",
    "\n",
    "def load_pca(run_path):\n",
    "    pca_path = run_path + \"/pca/\"\n",
    "    if not os.path.isdir(pca_path):\n",
    "        print(\"ERROR: pca_path does not exist. Check your run_path or if you already executed the callback operation.\")\n",
    "    eig_vec = np.load(pca_path + \"eig_vec.npy\")\n",
    "    eig_val = np.load(pca_path + \"eig_val.npy\")\n",
    "    return eig_val, eig_vec"
   ]
  },
  {
   "cell_type": "code",
   "execution_count": null,
   "metadata": {},
   "outputs": [],
   "source": [
    "# here you have to enter the path to the run which should be vied\n",
    "#run_path = \"VAE/logs/2020-02-26T20-26-12_up_vae_some_sky_0\"\n",
    "#run_path = \"/export/home/rhaecker/documents/Machine-Learning-on-individual-data/log_ex/2020-02-21T14-32-46_vae_3_conv_3-1-factor0.02\"\n",
    "run_path = \"VAE/logs/2020-03-30T12-25-27_test/eval/2020-03-30T12-25-27_test/900/model_outputs\"\n",
    "working_directory = '/export/home/rhaecker/documents/research-of-latent-representation/'\n",
    "if run_path[-1]==[\"/\"]:\n",
    "    run_path = run_path[:-1]\n",
    "run_path = working_directory + run_path\n",
    "\n",
    "config = load_config(run_path)\n",
    "eig_val, eig_vec = load_pca(run_path)"
   ]
  },
  {
   "cell_type": "code",
   "execution_count": 4,
   "metadata": {},
   "outputs": [
    {
     "name": "stderr",
     "output_type": "stream",
     "text": [
      "INFO:VAE_Model:[[3, 64, 64], [32, 32, 32], [32, 16, 16], [64, 8, 8], [4096], [32]]\n"
     ]
    },
    {
     "name": "stdout",
     "output_type": "stream",
     "text": [
      "Padding of the convolutions is set to 1\n"
     ]
    }
   ],
   "source": [
    "# load Model with latest checkpoint\n",
    "vae = VAE_Model(config)\n",
    "checkpoint_path = run_path + \"/train/checkpoints/\"\n",
    "latest_chkpt_path = get_latest_checkpoint(checkpoint_root = checkpoint_path)\n",
    "vae.load_state_dict(torch.load(latest_chkpt_path)[\"model\"])\n",
    "vae = vae.to(device)\n",
    "#print(vae.tensor_shapes)"
   ]
  },
  {
   "cell_type": "code",
   "execution_count": 5,
   "metadata": {},
   "outputs": [],
   "source": [
    "def plot_eig_val():\n",
    "    idx_lambda = np.arange(0,len(eig_val),1)\n",
    "    plt.figure(figsize=(15,7))\n",
    "    plt.bar(idx_lambda, eig_val)\n",
    "    plt.ylabel(\"eigenvalue $\\lambda$\")\n",
    "    plt.xlabel(\"index of eigenvector\")\n",
    "    plt.show()\n",
    "\n",
    "# Functions to look at the latent representation\n",
    "def view_one_pc(mu = 0, delta=20, pc_num=0, num_images=5):\n",
    "    final = get_one_pc(mu, delta, pc_num, num_images)\n",
    "    plt.figure(figsize=(20,20))\n",
    "    plt.xlabel(\"factor of principle component \" + str(pc_num))\n",
    "    lab_pos = np.arange(32,64*num_images,64)\n",
    "    x_lab = np.linspace(mu-delta,mu+delta,num_images)\n",
    "    plt.xticks(lab_pos, np.round(x_lab,1))\n",
    "    plt.imshow(final)\n",
    "    plt.show()\n",
    "    \n",
    "def get_one_pc(mu = 0, delta=20, pc_num=0, num_images=5):\n",
    "    x = torch.linspace(mu-delta,mu+delta,num_images).to(device)\n",
    "    pc = torch.from_numpy(eig_vec[pc_num]).to(device).double()\n",
    "\n",
    "    z = torch.zeros([num_images,config[\"linear\"][\"latent_dim\"]], dtype=torch.float).to(device)\n",
    "    for i in range(num_images):\n",
    "        z[i] = pc * x[i]\n",
    "    img = vae.latent_sample(z)\n",
    "    img = img.detach().cpu().permute([0,2,3,1]).numpy()\n",
    "    img = (img + 1)/2\n",
    "    final = np.hstack(img)\n",
    "    return final\n",
    "\n",
    "def view_pc(mu=0, delta=20, num_pc=1, num_images=5, save=False):\n",
    "    pc = np.arange(0,num_pc,1)\n",
    "    final = []\n",
    "    for i in range(num_pc):\n",
    "        final.append(get_one_pc(mu, delta, pc[i], num_images))\n",
    "    \n",
    "    final = np.asarray(final)\n",
    "    final = np.vstack(final)\n",
    "    plt.figure(figsize=(num_images*1.5,num_pc*1.5))\n",
    "    \n",
    "    plt.xlabel(\"factor of principle components\")\n",
    "    plt.ylabel(\"principle component\")\n",
    "    lab_pos_x = np.arange(32,64*num_images,64)\n",
    "    x_lab = np.linspace(mu-delta,mu+delta,num_images)\n",
    "    lab_pos_y = np.arange(32,64*num_pc,64)\n",
    "    plt.xticks(lab_pos_x, np.round(x_lab,1))\n",
    "    plt.yticks(lab_pos_y, pc)\n",
    "    plt.imshow(final)\n",
    "    if save:\n",
    "        plt.savefig(\"figures/view_pc_num_pc\" + str(pc_num) + \"_num_images\" + str(num_images) + \"_mu\" + str(mu) + \"delta\" + str(delta) + \".jpg\" )\n",
    "    plt.show()\n",
    "    \n",
    "def view_two_added_pc(mu_1 = 0, delta_1 = 20, mu_2 = 0, delta_2 = 20, pc_num_start=0, num_images_x=5, num_images_y=5, save=False):\n",
    "    x1 = torch.linspace(mu_1-delta_1,mu_1+delta_1,num_images_x)\n",
    "    x2 = torch.linspace(mu_2-delta_2,mu_2+delta_2,num_images_y)\n",
    "    \n",
    "    pc1 = torch.from_numpy(eig_vec[pc_num_start]).to(device)\n",
    "    pc2 = torch.from_numpy(eig_vec[pc_num_start+1]).to(device)\n",
    "    \n",
    "    z = torch.zeros([num_images_x,config[\"linear\"][\"latent_dim\"]], dtype=torch.float).to(device)\n",
    "    h_final = []\n",
    "    for j in range(num_images_y):\n",
    "        for i in range(num_images_x):\n",
    "            z[i] = pc1 * x1[i] + pc2 * x2[j]\n",
    "        img = vae.latent_sample(z)\n",
    "        img = img.detach().cpu().permute([0,2,3,1]).numpy()\n",
    "        img = (img + 1)/2\n",
    "        h_final.append(np.hstack(img))\n",
    "    h_final = np.asarray(h_final)\n",
    "    final = np.vstack(h_final)\n",
    "    plt.figure(figsize=(num_images_x*1.5,num_images_y*1.5))\n",
    "    \n",
    "    name_start = run_path.rfind(\"/\")\n",
    "    plt.title(\"Two added PC's from: \" + run_path[name_start+20:])\n",
    "    plt.imshow(final)\n",
    "    plt.xlabel(\"factor of principle component \" + str(pc_num_start))\n",
    "    plt.ylabel(\"factor of principle component \" + str(pc_num_start+1))\n",
    "    lab_x_pos = np.arange(32,64*num_images_x,64)\n",
    "    lab_y_pos = np.arange(32,64*num_images_y,64)\n",
    "    x_lab = x1.detach().cpu().numpy()\n",
    "    y_lab = x2.detach().cpu().numpy()\n",
    "    plt.xticks(lab_x_pos, np.round(x_lab,1))\n",
    "    plt.yticks(lab_y_pos, np.round(y_lab,1))\n",
    "    if save:\n",
    "        plt.savefig(\"figures/pc_2dim_mu_1_\" + str(mu_1) + \"__mu_2_\" + str(mu_2) + \".jpg\" )\n",
    "    plt.show()"
   ]
  },
  {
   "cell_type": "code",
   "execution_count": 6,
   "metadata": {
    "scrolled": false
   },
   "outputs": [
    {
     "data": {
      "application/vnd.jupyter.widget-view+json": {
       "model_id": "e1c7d3b06d4043729d909b18b6beedee",
       "version_major": 2,
       "version_minor": 0
      },
      "text/plain": [
       "interactive(children=(FloatSlider(value=0.0, description='mu', min=-100.0, step=0.5), FloatSlider(value=10.0, …"
      ]
     },
     "metadata": {},
     "output_type": "display_data"
    },
    {
     "data": {
      "application/vnd.jupyter.widget-view+json": {
       "model_id": "0f7c4df87e8c47bbb6f5246fda48463b",
       "version_major": 2,
       "version_minor": 0
      },
      "text/plain": [
       "interactive(children=(FloatSlider(value=0.0, description='mu', min=-100.0, step=0.5), FloatSlider(value=10.0, …"
      ]
     },
     "metadata": {},
     "output_type": "display_data"
    },
    {
     "data": {
      "application/vnd.jupyter.widget-view+json": {
       "model_id": "461ae70e08a74efcbd267615d2d4878c",
       "version_major": 2,
       "version_minor": 0
      },
      "text/plain": [
       "interactive(children=(FloatSlider(value=0.0, description='mu_1', max=50.0, min=-50.0, step=0.5), FloatSlider(v…"
      ]
     },
     "metadata": {},
     "output_type": "display_data"
    },
    {
     "data": {
      "text/plain": [
       "<function __main__.view_two_added_pc(mu_1=0, delta_1=20, mu_2=0, delta_2=20, pc_num_start=0, num_images_x=5, num_images_y=5, save=False)>"
      ]
     },
     "execution_count": 6,
     "metadata": {},
     "output_type": "execute_result"
    }
   ],
   "source": [
    "cont_up = True\n",
    "interact(view_one_pc, mu =widgets.FloatSlider(min=-100,max=100,step=0.5, value=0, continuous_update=cont_up), \n",
    "                     delta=widgets.FloatSlider(min=-100,max=100,step=1, value=10, continuous_update=cont_up),\n",
    "                     pc_num=widgets.IntSlider(min=0, max=30, step=1, value=0),\n",
    "                     num_images=widgets.IntSlider(min=0, max=20, step=1, value=5))\n",
    "\n",
    "interact(view_pc, mu = widgets.FloatSlider(min=-100,max=100,step=0.5, value=0, continuous_update=cont_up), \n",
    "               delta = widgets.FloatSlider(min=0,max=150,step=1, value=10, continuous_update=cont_up),\n",
    "              num_pc = widgets.IntSlider(min=1, max=30, step=1, value=0),\n",
    "          num_images = widgets.IntSlider(min=1, max=20, step=1, value=5))\n",
    "\n",
    "interact(view_two_added_pc,mu_1 = widgets.FloatSlider(min=-50,max=50,step=0.5, value=0, continuous_update=cont_up),\n",
    "                        delta_1 = widgets.FloatSlider(min=0,max=50,step=0.5, value=10,continuous_update=cont_up), \n",
    "                           mu_2 = widgets.FloatSlider(min=-50,max=50,step=0.5, value=0, continuous_update=cont_up), \n",
    "                        delta_2 = widgets.FloatSlider(min=0,max=50,step=0.5, value=10,continuous_update=cont_up), \n",
    "                   pc_num_start = widgets.IntSlider(min=0, max=30, step=1, value=0),\n",
    "                   num_images_x = widgets.IntSlider(min=1, max=30, step=1, value=5),\n",
    "                   num_images_y = widgets.IntSlider(min=1, max=30, step=1, value=5))"
   ]
  },
  {
   "cell_type": "code",
   "execution_count": 25,
   "metadata": {},
   "outputs": [],
   "source": [
    "# functions to create gifs\n",
    "def save_image_seq(mu = 0, delta=50, pc_num=0, numb_images=250, loop_gif=False):\n",
    "    pca_path = run_path + \"/pca/\"\n",
    "    gif_path = pca_path + \"results/gifs\"\n",
    "    if not os.path.isdir(gif_path):\n",
    "            os.makedirs(gif_path)\n",
    "    if type(pc_num) in [list,np.ndarray]:\n",
    "        gifs = []\n",
    "        for i in range(len(pc_num)):\n",
    "            all_images = create_image_seq(mu, delta, pc_num[i], numb_images, loop_gif)\n",
    "            gifs.append(all_images)\n",
    "        gifs = np.asarray(gifs)\n",
    "        gifs = np.concatenate((gifs[:]),axis=2)\n",
    "        imageio.mimsave(gif_path + \"/pc_numbers\" + str(pc_num[0]) + \"-\" + str(pc_num[-1]) + \"_mu\" + str(mu) + \"_delta\" + str(delta) + '.gif', gifs)\n",
    "    else:\n",
    "        all_images = create_image_seq(mu, delta, pc_num, numb_images)\n",
    "        imageio.mimsave(gif_path + \"/pc_numb\" + str(pc_num) + \"_mu\" + str(mu) + \"_delta\" + str(delta) + '.gif', all_images)\n",
    "\n",
    "def create_image_seq(mu = 0, delta=50, pc_num=0, numb_images=250, loop_gif=False):\n",
    "    xx = torch.linspace(mu-delta,mu+delta,numb_images).to(device)\n",
    "    pc = torch.from_numpy(eig_vec[pc_num]).to(device).double()\n",
    "    \n",
    "    all_images = []\n",
    "    z = torch.zeros([numb_images,config[\"linear\"][\"latent_dim\"]], dtype=torch.float).to(device)\n",
    "    for i in range(numb_images):\n",
    "        z[i] = pc * xx[i]\n",
    "    img = vae.latent_sample(z)\n",
    "    img = img.detach().cpu().permute([0,2,3,1]).numpy()\n",
    "    img = (img + 1)/2\n",
    "    img = img_as_ubyte(img)\n",
    "    for i in range(numb_images):\n",
    "        all_images.append(img[i])\n",
    "    if loop_gif:\n",
    "        for i in range(numb_images):\n",
    "            z[i] = pc * xx[-i-1]\n",
    "        img = vae.latent_sample(z)\n",
    "        img = img.detach().cpu().permute([0,2,3,1]).numpy()\n",
    "        img = (img + 1)/2\n",
    "        img = img_as_ubyte(img)\n",
    "        for i in range(numb_images):\n",
    "            all_images.append(img[i])\n",
    "    return all_images"
   ]
  },
  {
   "cell_type": "code",
   "execution_count": 26,
   "metadata": {
    "scrolled": false
   },
   "outputs": [],
   "source": [
    "# save many gifs\n",
    "num = np.arange(0,8,1)\n",
    "save_image_seq(pc_num=num, numb_images=50,loop_gif = True)"
   ]
  },
  {
   "cell_type": "markdown",
   "metadata": {},
   "source": [
    "# UMAP"
   ]
  },
  {
   "cell_type": "code",
   "execution_count": 102,
   "metadata": {},
   "outputs": [
    {
     "name": "stdout",
     "output_type": "stream",
     "text": [
      "/export/home/rhaecker/documents/research-of-latent-representation/VAE/logs/2020-02-26T20-26-12_up_vae_some_sky_0/eval/2020-02-26T20-26-12_up_vae_some_sky_0/360000/model_outputs/labels/latent_rep-*-1000x32-*-float32.npy\n"
     ]
    }
   ],
   "source": [
    "# get raw data points\n",
    "raw_data_path = run_path + \"/eval/\"\n",
    "raw_data_path = raw_data_path + os.listdir(raw_data_path)[-1] + \"/\"\n",
    "logs_list = list(map(int, os.listdir(raw_data_path)))\n",
    "logs_list = np.sort(logs_list)\n",
    "raw_data_path = raw_data_path + str(logs_list[-1]) + \"/model_outputs/labels/\"\n",
    "raw_data_path = raw_data_path + os.listdir(raw_data_path)[-1] \n",
    "print(raw_data_path)\n",
    "\n",
    "meta_path = os.path.join(os.path.dirname(raw_data_path), '..')"
   ]
  },
  {
   "cell_type": "code",
   "execution_count": 98,
   "metadata": {},
   "outputs": [],
   "source": [
    "from edflow.data.believers.meta import MetaDataset"
   ]
  },
  {
   "cell_type": "code",
   "execution_count": 103,
   "metadata": {},
   "outputs": [],
   "source": [
    "Jdata = MetaDataset(meta_path)"
   ]
  },
  {
   "cell_type": "code",
   "execution_count": 104,
   "metadata": {},
   "outputs": [
    {
     "data": {
      "text/markdown": [
       "# Model Outputs\n",
       "\n",
       "\n",
       "# Labels\n",
       "|         Name |     Type |      Content |\n",
       "|--------------|----------|--------------|\n",
       "|   latent_rep |   memmap |   (1000, 32) |\n",
       "\n",
       "\n",
       "# Example 0\n",
       "|                 Name |     Type |   Content |\n",
       "|----------------------|----------|-----------|\n",
       "|               index_ |      int |         0 |\n",
       "|   labels_/latent_rep |   memmap |     (32,) |\n"
      ],
      "text/plain": [
       "<IPython.core.display.Markdown object>"
      ]
     },
     "metadata": {},
     "output_type": "display_data"
    }
   ],
   "source": [
    "Jdata.show()"
   ]
  },
  {
   "cell_type": "code",
   "execution_count": 105,
   "metadata": {},
   "outputs": [
    {
     "name": "stdout",
     "output_type": "stream",
     "text": [
      "(1000, 32)\n"
     ]
    }
   ],
   "source": [
    "reps = Jdata.labels['latent_rep']\n",
    "print(reps.shape)"
   ]
  },
  {
   "cell_type": "code",
   "execution_count": 76,
   "metadata": {},
   "outputs": [],
   "source": [
    "f = \"latent_rep-*-1000x32-*-float32.npy\"\n",
    "key, shape, dtype = f.split(\"-*-\")\n",
    "shape = tuple([int(s) for s in shape.split(\"x\")])\n",
    "\n",
    "data = np.memmap(raw_data_path, mode=\"c\", shape=shape, dtype=np.float32).copy()"
   ]
  },
  {
   "cell_type": "code",
   "execution_count": 86,
   "metadata": {},
   "outputs": [
    {
     "data": {
      "image/png": "[encoded data removed]",
      "text/plain": [
       "<Figure size 720x360 with 1 Axes>"
      ]
     },
     "metadata": {
      "needs_background": "light"
     },
     "output_type": "display_data"
    }
   ],
   "source": [
    "plt.figure(figsize=(10,5))\n",
    "plt.hist(data.flatten(), bins=\"auto\")\n",
    "plt.xlabel(\"expectation value $\\mu$ of the latent representation\")\n",
    "plt.ylabel(\"Number of data points\")\n",
    "plt.title(\"latent representation of all evaluation data points\")\n",
    "plt.show()"
   ]
  },
  {
   "cell_type": "code",
   "execution_count": 87,
   "metadata": {},
   "outputs": [],
   "source": [
    "import umap"
   ]
  },
  {
   "cell_type": "code",
   "execution_count": 88,
   "metadata": {},
   "outputs": [
    {
     "data": {
      "text/plain": [
       "(1000, 2)"
      ]
     },
     "execution_count": 88,
     "metadata": {},
     "output_type": "execute_result"
    }
   ],
   "source": [
    "reducer = umap.UMAP()\n",
    "embedding = reducer.fit_transform(data)\n",
    "embedding.shape"
   ]
  },
  {
   "cell_type": "code",
   "execution_count": 93,
   "metadata": {},
   "outputs": [
    {
     "data": {
      "image/png": "[encoded data removed]",
      "text/plain": [
       "<Figure size 432x288 with 1 Axes>"
      ]
     },
     "metadata": {
      "needs_background": "light"
     },
     "output_type": "display_data"
    }
   ],
   "source": [
    "plt.scatter(embedding[:,0], embedding[:,1],s=5)\n",
    "plt.show()"
   ]
  },
  {
   "cell_type": "code",
   "execution_count": 97,
   "metadata": {},
   "outputs": [
    {
     "data": {
      "text/plain": [
       "'/export/home/rhaecker/documents/Machine-Learning-on-individual-data/data/vae_var_some_sky'"
      ]
     },
     "execution_count": 97,
     "metadata": {},
     "output_type": "execute_result"
    }
   ],
   "source": [
    "config[\"data_root\"]"
   ]
  },
  {
   "cell_type": "code",
   "execution_count": null,
   "metadata": {},
   "outputs": [],
   "source": []
  }
 ],
 "metadata": {
  "kernelspec": {
   "display_name": "Python 3",
   "language": "python",
   "name": "python3"
  },
  "language_info": {
   "codemirror_mode": {
    "name": "ipython",
    "version": 3
   },
   "file_extension": ".py",
   "mimetype": "text/x-python",
   "name": "python",
   "nbconvert_exporter": "python",
   "pygments_lexer": "ipython3",
   "version": "3.8.1"
  }
 },
 "nbformat": 4,
 "nbformat_minor": 4
}
